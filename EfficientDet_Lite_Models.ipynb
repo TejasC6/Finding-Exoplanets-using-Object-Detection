{
  "nbformat": 4,
  "nbformat_minor": 0,
  "metadata": {
    "colab": {
      "name": "EfficientDet Lite Models.ipynb",
      "provenance": [],
      "collapsed_sections": [],
      "authorship_tag": "ABX9TyMWwLxJ1rVSTdNZ0H26pF+4",
      "include_colab_link": true
    },
    "kernelspec": {
      "name": "python3",
      "display_name": "Python 3"
    },
    "language_info": {
      "name": "python"
    },
    "accelerator": "GPU",
    "gpuClass": "standard"
  },
  "cells": [
    {
      "cell_type": "markdown",
      "metadata": {
        "id": "view-in-github",
        "colab_type": "text"
      },
      "source": [
        "<a href=\"https://colab.research.google.com/github/TejasC6/Finding-Exoplanets-using-Object-Detection/blob/main/EfficientDet_Lite_Models.ipynb\" target=\"_parent\"><img src=\"https://colab.research.google.com/assets/colab-badge.svg\" alt=\"Open In Colab\"/></a>"
      ]
    },
    {
      "cell_type": "code",
      "execution_count": null,
      "metadata": {
        "colab": {
          "base_uri": "https://localhost:8080/"
        },
        "id": "nUzKCdut8rNa",
        "outputId": "ea8a603c-042c-47c7-f1d5-effa3b861f80"
      },
      "outputs": [
        {
          "output_type": "stream",
          "name": "stdout",
          "text": [
            "\u001b[K     |████████████████████████████████| 642 kB 35.2 MB/s \n",
            "\u001b[K     |████████████████████████████████| 840 kB 69.8 MB/s \n",
            "\u001b[K     |████████████████████████████████| 120 kB 46.7 MB/s \n",
            "\u001b[K     |████████████████████████████████| 6.4 MB 61.1 MB/s \n",
            "\u001b[K     |████████████████████████████████| 87 kB 8.5 MB/s \n",
            "\u001b[K     |████████████████████████████████| 1.1 MB 58.8 MB/s \n",
            "\u001b[K     |████████████████████████████████| 55.1 MB 1.2 MB/s \n",
            "\u001b[K     |████████████████████████████████| 3.4 MB 59.5 MB/s \n",
            "\u001b[K     |████████████████████████████████| 1.2 MB 77.1 MB/s \n",
            "\u001b[K     |████████████████████████████████| 237 kB 65.0 MB/s \n",
            "\u001b[K     |████████████████████████████████| 596 kB 64.9 MB/s \n",
            "\u001b[K     |████████████████████████████████| 10.9 MB 47.8 MB/s \n",
            "\u001b[K     |████████████████████████████████| 77 kB 7.0 MB/s \n",
            "\u001b[K     |████████████████████████████████| 25.3 MB 1.7 MB/s \n",
            "\u001b[K     |████████████████████████████████| 352 kB 55.1 MB/s \n",
            "\u001b[K     |████████████████████████████████| 48.3 MB 83 kB/s \n",
            "\u001b[K     |████████████████████████████████| 99 kB 12.4 MB/s \n",
            "\u001b[K     |████████████████████████████████| 40 kB 7.2 MB/s \n",
            "\u001b[K     |████████████████████████████████| 213 kB 69.8 MB/s \n",
            "\u001b[K     |████████████████████████████████| 55.1 MB 143 kB/s \n",
            "\u001b[K     |████████████████████████████████| 55.1 MB 53 kB/s \n",
            "\u001b[K     |████████████████████████████████| 55.1 MB 138 kB/s \n",
            "\u001b[K     |████████████████████████████████| 42.6 MB 1.2 MB/s \n",
            "\u001b[K     |████████████████████████████████| 42.6 MB 1.4 MB/s \n",
            "\u001b[K     |████████████████████████████████| 42.6 MB 1.2 MB/s \n",
            "\u001b[K     |████████████████████████████████| 42.6 MB 1.2 MB/s \n",
            "\u001b[K     |████████████████████████████████| 42.6 MB 1.1 MB/s \n",
            "\u001b[K     |████████████████████████████████| 42.6 MB 1.2 MB/s \n",
            "\u001b[K     |████████████████████████████████| 42.6 MB 1.4 MB/s \n",
            "\u001b[K     |████████████████████████████████| 42.6 MB 1.4 MB/s \n",
            "\u001b[K     |████████████████████████████████| 42.6 MB 1.7 MB/s \n",
            "\u001b[K     |████████████████████████████████| 42.6 MB 1.3 MB/s \n",
            "\u001b[K     |████████████████████████████████| 42.6 MB 1.5 MB/s \n",
            "\u001b[K     |████████████████████████████████| 42.6 MB 1.3 MB/s \n",
            "\u001b[K     |████████████████████████████████| 42.6 MB 1.3 MB/s \n",
            "\u001b[K     |████████████████████████████████| 42.6 MB 1.4 MB/s \n",
            "\u001b[K     |████████████████████████████████| 42.6 MB 1.4 MB/s \n",
            "\u001b[K     |████████████████████████████████| 42.5 MB 1.2 MB/s \n",
            "\u001b[K     |████████████████████████████████| 1.1 MB 57.8 MB/s \n",
            "\u001b[?25h  Building wheel for fire (setup.py) ... \u001b[?25l\u001b[?25hdone\n",
            "  Building wheel for py-cpuinfo (setup.py) ... \u001b[?25l\u001b[?25hdone\n",
            "\u001b[31mERROR: pip's dependency resolver does not currently take into account all the packages that are installed. This behaviour is the source of the following dependency conflicts.\n",
            "datascience 0.10.6 requires folium==0.2.1, but you have folium 0.8.3 which is incompatible.\u001b[0m\n",
            "\u001b[K     |████████████████████████████████| 42.5 MB 1.5 MB/s \n",
            "\u001b[?25h"
          ]
        }
      ],
      "source": [
        "!pip install -q tflite-model-maker\n",
        "!pip install -q tflite-support"
      ]
    },
    {
      "cell_type": "code",
      "source": [
        "pip install folium==0.2.1"
      ],
      "metadata": {
        "colab": {
          "base_uri": "https://localhost:8080/"
        },
        "id": "EO3X4FRA80Zw",
        "outputId": "779ff36b-b54e-4eea-c070-0f8f341a4aa9"
      },
      "execution_count": null,
      "outputs": [
        {
          "output_type": "stream",
          "name": "stdout",
          "text": [
            "Looking in indexes: https://pypi.org/simple, https://us-python.pkg.dev/colab-wheels/public/simple/\n",
            "Collecting folium==0.2.1\n",
            "  Downloading folium-0.2.1.tar.gz (69 kB)\n",
            "\u001b[K     |████████████████████████████████| 69 kB 8.0 MB/s \n",
            "\u001b[?25hRequirement already satisfied: Jinja2 in /usr/local/lib/python3.7/dist-packages (from folium==0.2.1) (2.11.3)\n",
            "Requirement already satisfied: MarkupSafe>=0.23 in /usr/local/lib/python3.7/dist-packages (from Jinja2->folium==0.2.1) (2.0.1)\n",
            "Building wheels for collected packages: folium\n",
            "  Building wheel for folium (setup.py) ... \u001b[?25l\u001b[?25hdone\n",
            "  Created wheel for folium: filename=folium-0.2.1-py3-none-any.whl size=79808 sha256=96a8802e6caaf88dd625bbcaecf8339ee6d89cf34b6407529b608943fab4923c\n",
            "  Stored in directory: /root/.cache/pip/wheels/9a/f0/3a/3f79a6914ff5affaf50cabad60c9f4d565283283c97f0bdccf\n",
            "Successfully built folium\n",
            "Installing collected packages: folium\n",
            "  Attempting uninstall: folium\n",
            "    Found existing installation: folium 0.8.3\n",
            "    Uninstalling folium-0.8.3:\n",
            "      Successfully uninstalled folium-0.8.3\n",
            "Successfully installed folium-0.2.1\n"
          ]
        }
      ]
    },
    {
      "cell_type": "code",
      "source": [
        "import numpy as np\n",
        "import os\n",
        "\n",
        "from tflite_model_maker.config import ExportFormat, QuantizationConfig\n",
        "from tflite_model_maker import model_spec\n",
        "from tflite_model_maker import object_detector\n",
        "\n",
        "from tflite_support import metadata\n",
        "\n",
        "import tensorflow as tf\n",
        "assert tf.__version__.startswith('2')\n",
        "\n",
        "tf.get_logger().setLevel('ERROR')\n",
        "from absl import logging\n",
        "logging.set_verbosity(logging.ERROR)"
      ],
      "metadata": {
        "id": "yOOYBLy784V0"
      },
      "execution_count": null,
      "outputs": []
    },
    {
      "cell_type": "code",
      "source": [
        "# !wget https://storage.googleapis.com/download.tensorflow.org/data/android_figurine.zip\n",
        "# !unzip -q android_figurine.zip\n",
        "\n",
        "#mount drive\n",
        "from google.colab import drive\n",
        "drive.mount('/content/gdrive')\n",
        "\n",
        "# this creates a symbolic link so that now the path /content/gdrive/My\\ Drive/ is equal to /mydrive\n",
        "!ln -s /content/gdrive/My\\ Drive/ /mydrive\n",
        "\n",
        "#list contents in your drive\n",
        "!ls /mydrive"
      ],
      "metadata": {
        "id": "Psop-cRT88N9"
      },
      "execution_count": null,
      "outputs": []
    },
    {
      "cell_type": "code",
      "source": [
        "train_data = object_detector.DataLoader.from_pascal_voc(\n",
        "    '/content/gdrive/MyDrive/EfDetLite_Models/train_converted',\n",
        "    '/content/gdrive/MyDrive/EfDetLite-Models/train_annotations',\n",
        "    ['Dip']\n",
        ")\n",
        "\n",
        "val_data = object_detector.DataLoader.from_pascal_voc(\n",
        "    '/content/gdrive/MyDrive/EfDetLite-Models/validate_converted',\n",
        "    '/content/gdrive/MyDrive/EfDetLite-Models/validate_annotations',\n",
        "    ['Dip']\n",
        ")"
      ],
      "metadata": {
        "id": "IFhO3W9_9Dnz"
      },
      "execution_count": null,
      "outputs": []
    },
    {
      "cell_type": "code",
      "source": [
        "spec = model_spec.get('efficientdet_lite2')"
      ],
      "metadata": {
        "id": "IC-7uIW09Hdt"
      },
      "execution_count": null,
      "outputs": []
    },
    {
      "cell_type": "code",
      "source": [
        "model = object_detector.create(train_data, model_spec=spec, batch_size=4, train_whole_model=True, epochs=100, validation_data=val_data)"
      ],
      "metadata": {
        "colab": {
          "base_uri": "https://localhost:8080/"
        },
        "id": "xdulLtxX9Px2",
        "outputId": "663c3e43-e070-49f2-e0dd-3253f275a97f"
      },
      "execution_count": null,
      "outputs": [
        {
          "output_type": "stream",
          "name": "stdout",
          "text": [
            "Epoch 1/100\n",
            "46/46 [==============================] - 72s 472ms/step - det_loss: 2.7255 - cls_loss: 0.9993 - box_loss: 0.0345 - reg_l2_loss: 0.0760 - loss: 2.8015 - learning_rate: 0.0065 - gradient_norm: 9.6350 - val_det_loss: 4.7488 - val_cls_loss: 2.0871 - val_box_loss: 0.0532 - val_reg_l2_loss: 0.0762 - val_loss: 4.8249\n",
            "Epoch 2/100\n",
            "46/46 [==============================] - 18s 398ms/step - det_loss: 1.6422 - cls_loss: 0.7342 - box_loss: 0.0182 - reg_l2_loss: 0.0763 - loss: 1.7185 - learning_rate: 0.0050 - gradient_norm: 9.2410 - val_det_loss: 5.0404 - val_cls_loss: 3.8055 - val_box_loss: 0.0247 - val_reg_l2_loss: 0.0764 - val_loss: 5.1168\n",
            "Epoch 3/100\n",
            "46/46 [==============================] - 18s 398ms/step - det_loss: 1.3295 - cls_loss: 0.6446 - box_loss: 0.0137 - reg_l2_loss: 0.0765 - loss: 1.4059 - learning_rate: 0.0050 - gradient_norm: 7.9106 - val_det_loss: 1.9546 - val_cls_loss: 0.8880 - val_box_loss: 0.0213 - val_reg_l2_loss: 0.0765 - val_loss: 2.0311\n",
            "Epoch 4/100\n",
            "46/46 [==============================] - 18s 402ms/step - det_loss: 1.2543 - cls_loss: 0.5887 - box_loss: 0.0133 - reg_l2_loss: 0.0766 - loss: 1.3308 - learning_rate: 0.0050 - gradient_norm: 7.0809 - val_det_loss: 1.8334 - val_cls_loss: 0.7533 - val_box_loss: 0.0216 - val_reg_l2_loss: 0.0766 - val_loss: 1.9100\n",
            "Epoch 5/100\n",
            "46/46 [==============================] - 26s 572ms/step - det_loss: 1.1875 - cls_loss: 0.5590 - box_loss: 0.0126 - reg_l2_loss: 0.0767 - loss: 1.2642 - learning_rate: 0.0050 - gradient_norm: 6.4324 - val_det_loss: 1.6806 - val_cls_loss: 0.6917 - val_box_loss: 0.0198 - val_reg_l2_loss: 0.0767 - val_loss: 1.7573\n",
            "Epoch 6/100\n",
            "46/46 [==============================] - 18s 394ms/step - det_loss: 1.1009 - cls_loss: 0.5334 - box_loss: 0.0114 - reg_l2_loss: 0.0767 - loss: 1.1777 - learning_rate: 0.0050 - gradient_norm: 5.8911 - val_det_loss: 1.2705 - val_cls_loss: 0.7951 - val_box_loss: 0.0095 - val_reg_l2_loss: 0.0767 - val_loss: 1.3472\n",
            "Epoch 7/100\n",
            "46/46 [==============================] - 20s 428ms/step - det_loss: 1.0777 - cls_loss: 0.5313 - box_loss: 0.0109 - reg_l2_loss: 0.0768 - loss: 1.1545 - learning_rate: 0.0049 - gradient_norm: 6.0278 - val_det_loss: 1.5851 - val_cls_loss: 0.7075 - val_box_loss: 0.0176 - val_reg_l2_loss: 0.0768 - val_loss: 1.6619\n",
            "Epoch 8/100\n",
            "46/46 [==============================] - 21s 453ms/step - det_loss: 1.0171 - cls_loss: 0.5104 - box_loss: 0.0101 - reg_l2_loss: 0.0768 - loss: 1.0939 - learning_rate: 0.0049 - gradient_norm: 4.9758 - val_det_loss: 1.0793 - val_cls_loss: 0.5458 - val_box_loss: 0.0107 - val_reg_l2_loss: 0.0768 - val_loss: 1.1562\n",
            "Epoch 9/100\n",
            "46/46 [==============================] - 18s 402ms/step - det_loss: 0.9490 - cls_loss: 0.4730 - box_loss: 0.0095 - reg_l2_loss: 0.0768 - loss: 1.0259 - learning_rate: 0.0049 - gradient_norm: 4.7998 - val_det_loss: 1.1452 - val_cls_loss: 0.5697 - val_box_loss: 0.0115 - val_reg_l2_loss: 0.0769 - val_loss: 1.2221\n",
            "Epoch 10/100\n",
            "46/46 [==============================] - 21s 466ms/step - det_loss: 0.9269 - cls_loss: 0.4872 - box_loss: 0.0088 - reg_l2_loss: 0.0769 - loss: 1.0038 - learning_rate: 0.0049 - gradient_norm: 4.7931 - val_det_loss: 1.1607 - val_cls_loss: 0.5762 - val_box_loss: 0.0117 - val_reg_l2_loss: 0.0769 - val_loss: 1.2376\n",
            "Epoch 11/100\n",
            "46/46 [==============================] - 19s 419ms/step - det_loss: 1.0266 - cls_loss: 0.4982 - box_loss: 0.0106 - reg_l2_loss: 0.0769 - loss: 1.1035 - learning_rate: 0.0049 - gradient_norm: 4.9078 - val_det_loss: 1.1858 - val_cls_loss: 0.5422 - val_box_loss: 0.0129 - val_reg_l2_loss: 0.0769 - val_loss: 1.2627\n",
            "Epoch 12/100\n",
            "46/46 [==============================] - 19s 406ms/step - det_loss: 0.9486 - cls_loss: 0.4815 - box_loss: 0.0093 - reg_l2_loss: 0.0769 - loss: 1.0256 - learning_rate: 0.0048 - gradient_norm: 4.8352 - val_det_loss: 1.1242 - val_cls_loss: 0.5062 - val_box_loss: 0.0124 - val_reg_l2_loss: 0.0769 - val_loss: 1.2011\n",
            "Epoch 13/100\n",
            "46/46 [==============================] - 18s 400ms/step - det_loss: 0.9230 - cls_loss: 0.4823 - box_loss: 0.0088 - reg_l2_loss: 0.0769 - loss: 0.9999 - learning_rate: 0.0048 - gradient_norm: 4.4364 - val_det_loss: 1.0631 - val_cls_loss: 0.5317 - val_box_loss: 0.0106 - val_reg_l2_loss: 0.0770 - val_loss: 1.1400\n",
            "Epoch 14/100\n",
            "46/46 [==============================] - 19s 407ms/step - det_loss: 0.8967 - cls_loss: 0.4685 - box_loss: 0.0086 - reg_l2_loss: 0.0770 - loss: 0.9737 - learning_rate: 0.0048 - gradient_norm: 4.6828 - val_det_loss: 0.9768 - val_cls_loss: 0.4970 - val_box_loss: 0.0096 - val_reg_l2_loss: 0.0770 - val_loss: 1.0538\n",
            "Epoch 15/100\n",
            "46/46 [==============================] - 22s 474ms/step - det_loss: 0.9354 - cls_loss: 0.4536 - box_loss: 0.0096 - reg_l2_loss: 0.0770 - loss: 1.0124 - learning_rate: 0.0047 - gradient_norm: 4.6132 - val_det_loss: 1.0417 - val_cls_loss: 0.5593 - val_box_loss: 0.0096 - val_reg_l2_loss: 0.0770 - val_loss: 1.1187\n",
            "Epoch 16/100\n",
            "46/46 [==============================] - 19s 408ms/step - det_loss: 0.8777 - cls_loss: 0.4576 - box_loss: 0.0084 - reg_l2_loss: 0.0770 - loss: 0.9547 - learning_rate: 0.0047 - gradient_norm: 4.0849 - val_det_loss: 0.9717 - val_cls_loss: 0.4850 - val_box_loss: 0.0097 - val_reg_l2_loss: 0.0770 - val_loss: 1.0488\n",
            "Epoch 17/100\n",
            "46/46 [==============================] - 19s 404ms/step - det_loss: 0.8511 - cls_loss: 0.4578 - box_loss: 0.0079 - reg_l2_loss: 0.0770 - loss: 0.9281 - learning_rate: 0.0047 - gradient_norm: 4.4061 - val_det_loss: 0.9782 - val_cls_loss: 0.5138 - val_box_loss: 0.0093 - val_reg_l2_loss: 0.0770 - val_loss: 1.0552\n",
            "Epoch 18/100\n",
            "46/46 [==============================] - 19s 425ms/step - det_loss: 0.8694 - cls_loss: 0.4408 - box_loss: 0.0086 - reg_l2_loss: 0.0770 - loss: 0.9465 - learning_rate: 0.0046 - gradient_norm: 4.1905 - val_det_loss: 0.8191 - val_cls_loss: 0.4078 - val_box_loss: 0.0082 - val_reg_l2_loss: 0.0770 - val_loss: 0.8962\n",
            "Epoch 19/100\n",
            "46/46 [==============================] - 19s 408ms/step - det_loss: 0.8530 - cls_loss: 0.4456 - box_loss: 0.0081 - reg_l2_loss: 0.0771 - loss: 0.9301 - learning_rate: 0.0046 - gradient_norm: 4.5337 - val_det_loss: 1.0016 - val_cls_loss: 0.4778 - val_box_loss: 0.0105 - val_reg_l2_loss: 0.0771 - val_loss: 1.0787\n",
            "Epoch 20/100\n",
            "46/46 [==============================] - 21s 463ms/step - det_loss: 0.7804 - cls_loss: 0.4263 - box_loss: 0.0071 - reg_l2_loss: 0.0771 - loss: 0.8575 - learning_rate: 0.0045 - gradient_norm: 3.8424 - val_det_loss: 0.9630 - val_cls_loss: 0.5418 - val_box_loss: 0.0084 - val_reg_l2_loss: 0.0771 - val_loss: 1.0400\n",
            "Epoch 21/100\n",
            "46/46 [==============================] - 18s 397ms/step - det_loss: 0.8479 - cls_loss: 0.4334 - box_loss: 0.0083 - reg_l2_loss: 0.0771 - loss: 0.9250 - learning_rate: 0.0045 - gradient_norm: 3.9364 - val_det_loss: 0.9304 - val_cls_loss: 0.5266 - val_box_loss: 0.0081 - val_reg_l2_loss: 0.0771 - val_loss: 1.0075\n",
            "Epoch 22/100\n",
            "46/46 [==============================] - 19s 419ms/step - det_loss: 0.7967 - cls_loss: 0.4305 - box_loss: 0.0073 - reg_l2_loss: 0.0771 - loss: 0.8738 - learning_rate: 0.0044 - gradient_norm: 4.0545 - val_det_loss: 0.8816 - val_cls_loss: 0.4668 - val_box_loss: 0.0083 - val_reg_l2_loss: 0.0771 - val_loss: 0.9587\n",
            "Epoch 23/100\n",
            "46/46 [==============================] - 19s 405ms/step - det_loss: 0.7472 - cls_loss: 0.4210 - box_loss: 0.0065 - reg_l2_loss: 0.0771 - loss: 0.8243 - learning_rate: 0.0044 - gradient_norm: 3.6458 - val_det_loss: 0.9504 - val_cls_loss: 0.5194 - val_box_loss: 0.0086 - val_reg_l2_loss: 0.0771 - val_loss: 1.0275\n",
            "Epoch 24/100\n",
            "46/46 [==============================] - 19s 410ms/step - det_loss: 0.7458 - cls_loss: 0.4180 - box_loss: 0.0066 - reg_l2_loss: 0.0771 - loss: 0.8229 - learning_rate: 0.0043 - gradient_norm: 3.7011 - val_det_loss: 0.8612 - val_cls_loss: 0.5500 - val_box_loss: 0.0062 - val_reg_l2_loss: 0.0771 - val_loss: 0.9383\n",
            "Epoch 25/100\n",
            "46/46 [==============================] - 22s 478ms/step - det_loss: 0.7928 - cls_loss: 0.4306 - box_loss: 0.0072 - reg_l2_loss: 0.0771 - loss: 0.8700 - learning_rate: 0.0043 - gradient_norm: 4.1097 - val_det_loss: 0.8575 - val_cls_loss: 0.5487 - val_box_loss: 0.0062 - val_reg_l2_loss: 0.0771 - val_loss: 0.9346\n",
            "Epoch 26/100\n",
            "46/46 [==============================] - 18s 404ms/step - det_loss: 0.7943 - cls_loss: 0.4278 - box_loss: 0.0073 - reg_l2_loss: 0.0771 - loss: 0.8715 - learning_rate: 0.0042 - gradient_norm: 3.7073 - val_det_loss: 0.8948 - val_cls_loss: 0.5374 - val_box_loss: 0.0071 - val_reg_l2_loss: 0.0771 - val_loss: 0.9719\n",
            "Epoch 27/100\n",
            "46/46 [==============================] - 19s 405ms/step - det_loss: 0.7686 - cls_loss: 0.4178 - box_loss: 0.0070 - reg_l2_loss: 0.0771 - loss: 0.8457 - learning_rate: 0.0042 - gradient_norm: 3.7782 - val_det_loss: 0.8960 - val_cls_loss: 0.5109 - val_box_loss: 0.0077 - val_reg_l2_loss: 0.0771 - val_loss: 0.9731\n",
            "Epoch 28/100\n",
            "46/46 [==============================] - 20s 434ms/step - det_loss: 0.7298 - cls_loss: 0.4178 - box_loss: 0.0062 - reg_l2_loss: 0.0771 - loss: 0.8069 - learning_rate: 0.0041 - gradient_norm: 3.6220 - val_det_loss: 0.8099 - val_cls_loss: 0.5087 - val_box_loss: 0.0060 - val_reg_l2_loss: 0.0771 - val_loss: 0.8870\n",
            "Epoch 29/100\n",
            "46/46 [==============================] - 19s 418ms/step - det_loss: 0.7579 - cls_loss: 0.4492 - box_loss: 0.0062 - reg_l2_loss: 0.0772 - loss: 0.8350 - learning_rate: 0.0040 - gradient_norm: 3.8612 - val_det_loss: 0.9352 - val_cls_loss: 0.5143 - val_box_loss: 0.0084 - val_reg_l2_loss: 0.0772 - val_loss: 1.0124\n",
            "Epoch 30/100\n",
            "46/46 [==============================] - 21s 468ms/step - det_loss: 0.7483 - cls_loss: 0.4229 - box_loss: 0.0065 - reg_l2_loss: 0.0772 - loss: 0.8255 - learning_rate: 0.0040 - gradient_norm: 3.7821 - val_det_loss: 0.8287 - val_cls_loss: 0.4756 - val_box_loss: 0.0071 - val_reg_l2_loss: 0.0772 - val_loss: 0.9058\n",
            "Epoch 31/100\n",
            "46/46 [==============================] - 19s 407ms/step - det_loss: 0.7132 - cls_loss: 0.4107 - box_loss: 0.0061 - reg_l2_loss: 0.0772 - loss: 0.7904 - learning_rate: 0.0039 - gradient_norm: 3.6519 - val_det_loss: 0.8966 - val_cls_loss: 0.4557 - val_box_loss: 0.0088 - val_reg_l2_loss: 0.0772 - val_loss: 0.9737\n",
            "Epoch 32/100\n",
            "46/46 [==============================] - 19s 421ms/step - det_loss: 0.7901 - cls_loss: 0.4247 - box_loss: 0.0073 - reg_l2_loss: 0.0772 - loss: 0.8672 - learning_rate: 0.0039 - gradient_norm: 4.1832 - val_det_loss: 0.7755 - val_cls_loss: 0.4194 - val_box_loss: 0.0071 - val_reg_l2_loss: 0.0772 - val_loss: 0.8527\n",
            "Epoch 33/100\n",
            "46/46 [==============================] - 19s 407ms/step - det_loss: 0.7344 - cls_loss: 0.4312 - box_loss: 0.0061 - reg_l2_loss: 0.0772 - loss: 0.8116 - learning_rate: 0.0038 - gradient_norm: 3.5261 - val_det_loss: 0.7519 - val_cls_loss: 0.4144 - val_box_loss: 0.0067 - val_reg_l2_loss: 0.0772 - val_loss: 0.8291\n",
            "Epoch 34/100\n",
            "46/46 [==============================] - 19s 404ms/step - det_loss: 0.6996 - cls_loss: 0.3947 - box_loss: 0.0061 - reg_l2_loss: 0.0772 - loss: 0.7767 - learning_rate: 0.0037 - gradient_norm: 3.5535 - val_det_loss: 0.7098 - val_cls_loss: 0.4135 - val_box_loss: 0.0059 - val_reg_l2_loss: 0.0772 - val_loss: 0.7869\n",
            "Epoch 35/100\n",
            "46/46 [==============================] - 22s 478ms/step - det_loss: 0.7323 - cls_loss: 0.4092 - box_loss: 0.0065 - reg_l2_loss: 0.0772 - loss: 0.8095 - learning_rate: 0.0036 - gradient_norm: 3.6701 - val_det_loss: 0.8481 - val_cls_loss: 0.4273 - val_box_loss: 0.0084 - val_reg_l2_loss: 0.0772 - val_loss: 0.9252\n",
            "Epoch 36/100\n",
            "46/46 [==============================] - 19s 406ms/step - det_loss: 0.7333 - cls_loss: 0.4287 - box_loss: 0.0061 - reg_l2_loss: 0.0772 - loss: 0.8105 - learning_rate: 0.0036 - gradient_norm: 3.7111 - val_det_loss: 0.8441 - val_cls_loss: 0.4432 - val_box_loss: 0.0080 - val_reg_l2_loss: 0.0772 - val_loss: 0.9212\n",
            "Epoch 37/100\n",
            "46/46 [==============================] - 18s 400ms/step - det_loss: 0.7726 - cls_loss: 0.4086 - box_loss: 0.0073 - reg_l2_loss: 0.0772 - loss: 0.8498 - learning_rate: 0.0035 - gradient_norm: 3.9002 - val_det_loss: 0.7948 - val_cls_loss: 0.4865 - val_box_loss: 0.0062 - val_reg_l2_loss: 0.0772 - val_loss: 0.8720\n",
            "Epoch 38/100\n",
            "46/46 [==============================] - 19s 404ms/step - det_loss: 0.7382 - cls_loss: 0.4212 - box_loss: 0.0063 - reg_l2_loss: 0.0772 - loss: 0.8154 - learning_rate: 0.0034 - gradient_norm: 3.7503 - val_det_loss: 0.8138 - val_cls_loss: 0.4608 - val_box_loss: 0.0071 - val_reg_l2_loss: 0.0772 - val_loss: 0.8910\n",
            "Epoch 39/100\n",
            "46/46 [==============================] - 19s 415ms/step - det_loss: 0.7114 - cls_loss: 0.3928 - box_loss: 0.0064 - reg_l2_loss: 0.0772 - loss: 0.7886 - learning_rate: 0.0034 - gradient_norm: 4.0137 - val_det_loss: 0.7847 - val_cls_loss: 0.4421 - val_box_loss: 0.0069 - val_reg_l2_loss: 0.0772 - val_loss: 0.8619\n",
            "Epoch 40/100\n",
            "46/46 [==============================] - 21s 466ms/step - det_loss: 0.7075 - cls_loss: 0.3876 - box_loss: 0.0064 - reg_l2_loss: 0.0772 - loss: 0.7847 - learning_rate: 0.0033 - gradient_norm: 3.7483 - val_det_loss: 0.7930 - val_cls_loss: 0.4365 - val_box_loss: 0.0071 - val_reg_l2_loss: 0.0772 - val_loss: 0.8702\n",
            "Epoch 41/100\n",
            "46/46 [==============================] - 18s 399ms/step - det_loss: 0.6939 - cls_loss: 0.3802 - box_loss: 0.0063 - reg_l2_loss: 0.0772 - loss: 0.7711 - learning_rate: 0.0032 - gradient_norm: 3.5576 - val_det_loss: 0.7870 - val_cls_loss: 0.4765 - val_box_loss: 0.0062 - val_reg_l2_loss: 0.0772 - val_loss: 0.8642\n",
            "Epoch 42/100\n",
            "46/46 [==============================] - 19s 414ms/step - det_loss: 0.7101 - cls_loss: 0.3901 - box_loss: 0.0064 - reg_l2_loss: 0.0772 - loss: 0.7873 - learning_rate: 0.0031 - gradient_norm: 3.7523 - val_det_loss: 0.7538 - val_cls_loss: 0.4217 - val_box_loss: 0.0066 - val_reg_l2_loss: 0.0772 - val_loss: 0.8310\n",
            "Epoch 43/100\n",
            "46/46 [==============================] - 18s 402ms/step - det_loss: 0.6859 - cls_loss: 0.3714 - box_loss: 0.0063 - reg_l2_loss: 0.0772 - loss: 0.7631 - learning_rate: 0.0031 - gradient_norm: 3.6204 - val_det_loss: 0.7645 - val_cls_loss: 0.3873 - val_box_loss: 0.0075 - val_reg_l2_loss: 0.0772 - val_loss: 0.8417\n",
            "Epoch 44/100\n",
            "46/46 [==============================] - 18s 400ms/step - det_loss: 0.6298 - cls_loss: 0.3704 - box_loss: 0.0052 - reg_l2_loss: 0.0772 - loss: 0.7070 - learning_rate: 0.0030 - gradient_norm: 3.4788 - val_det_loss: 0.7184 - val_cls_loss: 0.4158 - val_box_loss: 0.0061 - val_reg_l2_loss: 0.0772 - val_loss: 0.7956\n",
            "Epoch 45/100\n",
            "46/46 [==============================] - 22s 478ms/step - det_loss: 0.6670 - cls_loss: 0.3648 - box_loss: 0.0060 - reg_l2_loss: 0.0772 - loss: 0.7442 - learning_rate: 0.0029 - gradient_norm: 3.5461 - val_det_loss: 0.7719 - val_cls_loss: 0.4467 - val_box_loss: 0.0065 - val_reg_l2_loss: 0.0772 - val_loss: 0.8491\n",
            "Epoch 46/100\n",
            "46/46 [==============================] - 19s 407ms/step - det_loss: 0.6825 - cls_loss: 0.4067 - box_loss: 0.0055 - reg_l2_loss: 0.0772 - loss: 0.7597 - learning_rate: 0.0028 - gradient_norm: 3.4614 - val_det_loss: 0.6022 - val_cls_loss: 0.4074 - val_box_loss: 0.0039 - val_reg_l2_loss: 0.0772 - val_loss: 0.6794\n",
            "Epoch 47/100\n",
            "46/46 [==============================] - 19s 404ms/step - det_loss: 0.6935 - cls_loss: 0.3728 - box_loss: 0.0064 - reg_l2_loss: 0.0772 - loss: 0.7707 - learning_rate: 0.0027 - gradient_norm: 3.8178 - val_det_loss: 0.6411 - val_cls_loss: 0.4354 - val_box_loss: 0.0041 - val_reg_l2_loss: 0.0772 - val_loss: 0.7183\n",
            "Epoch 48/100\n",
            "46/46 [==============================] - 19s 404ms/step - det_loss: 0.6786 - cls_loss: 0.3822 - box_loss: 0.0059 - reg_l2_loss: 0.0772 - loss: 0.7558 - learning_rate: 0.0027 - gradient_norm: 3.6983 - val_det_loss: 0.6563 - val_cls_loss: 0.3843 - val_box_loss: 0.0054 - val_reg_l2_loss: 0.0772 - val_loss: 0.7335\n",
            "Epoch 49/100\n",
            "46/46 [==============================] - 20s 426ms/step - det_loss: 0.6400 - cls_loss: 0.3487 - box_loss: 0.0058 - reg_l2_loss: 0.0772 - loss: 0.7172 - learning_rate: 0.0026 - gradient_norm: 3.6603 - val_det_loss: 0.6648 - val_cls_loss: 0.4678 - val_box_loss: 0.0039 - val_reg_l2_loss: 0.0772 - val_loss: 0.7420\n",
            "Epoch 50/100\n",
            "46/46 [==============================] - 22s 478ms/step - det_loss: 0.6698 - cls_loss: 0.3790 - box_loss: 0.0058 - reg_l2_loss: 0.0772 - loss: 0.7470 - learning_rate: 0.0025 - gradient_norm: 3.8783 - val_det_loss: 0.6322 - val_cls_loss: 0.4315 - val_box_loss: 0.0040 - val_reg_l2_loss: 0.0772 - val_loss: 0.7094\n",
            "Epoch 51/100\n",
            "46/46 [==============================] - 18s 397ms/step - det_loss: 0.6445 - cls_loss: 0.3642 - box_loss: 0.0056 - reg_l2_loss: 0.0772 - loss: 0.7217 - learning_rate: 0.0024 - gradient_norm: 3.8080 - val_det_loss: 0.6623 - val_cls_loss: 0.4165 - val_box_loss: 0.0049 - val_reg_l2_loss: 0.0772 - val_loss: 0.7395\n",
            "Epoch 52/100\n",
            "46/46 [==============================] - 19s 408ms/step - det_loss: 0.6451 - cls_loss: 0.3568 - box_loss: 0.0058 - reg_l2_loss: 0.0772 - loss: 0.7223 - learning_rate: 0.0023 - gradient_norm: 3.6109 - val_det_loss: 0.6310 - val_cls_loss: 0.4071 - val_box_loss: 0.0045 - val_reg_l2_loss: 0.0772 - val_loss: 0.7082\n",
            "Epoch 53/100\n",
            "46/46 [==============================] - 19s 413ms/step - det_loss: 0.6918 - cls_loss: 0.3719 - box_loss: 0.0064 - reg_l2_loss: 0.0772 - loss: 0.7691 - learning_rate: 0.0023 - gradient_norm: 3.7972 - val_det_loss: 0.7184 - val_cls_loss: 0.5227 - val_box_loss: 0.0039 - val_reg_l2_loss: 0.0772 - val_loss: 0.7956\n",
            "Epoch 54/100\n",
            "46/46 [==============================] - 18s 399ms/step - det_loss: 0.6394 - cls_loss: 0.3602 - box_loss: 0.0056 - reg_l2_loss: 0.0772 - loss: 0.7166 - learning_rate: 0.0022 - gradient_norm: 3.6880 - val_det_loss: 0.7384 - val_cls_loss: 0.4782 - val_box_loss: 0.0052 - val_reg_l2_loss: 0.0772 - val_loss: 0.8156\n",
            "Epoch 55/100\n",
            "46/46 [==============================] - 21s 463ms/step - det_loss: 0.6221 - cls_loss: 0.3683 - box_loss: 0.0051 - reg_l2_loss: 0.0772 - loss: 0.6993 - learning_rate: 0.0021 - gradient_norm: 3.6467 - val_det_loss: 0.7807 - val_cls_loss: 0.4612 - val_box_loss: 0.0064 - val_reg_l2_loss: 0.0772 - val_loss: 0.8579\n",
            "Epoch 56/100\n",
            "46/46 [==============================] - 18s 397ms/step - det_loss: 0.6537 - cls_loss: 0.3724 - box_loss: 0.0056 - reg_l2_loss: 0.0772 - loss: 0.7309 - learning_rate: 0.0020 - gradient_norm: 3.6798 - val_det_loss: 0.6922 - val_cls_loss: 0.4452 - val_box_loss: 0.0049 - val_reg_l2_loss: 0.0772 - val_loss: 0.7694\n",
            "Epoch 57/100\n",
            "46/46 [==============================] - 19s 417ms/step - det_loss: 0.6339 - cls_loss: 0.3669 - box_loss: 0.0053 - reg_l2_loss: 0.0772 - loss: 0.7111 - learning_rate: 0.0019 - gradient_norm: 3.5211 - val_det_loss: 0.7268 - val_cls_loss: 0.4924 - val_box_loss: 0.0047 - val_reg_l2_loss: 0.0772 - val_loss: 0.8040\n",
            "Epoch 58/100\n",
            "46/46 [==============================] - 19s 403ms/step - det_loss: 0.6187 - cls_loss: 0.3668 - box_loss: 0.0050 - reg_l2_loss: 0.0772 - loss: 0.6959 - learning_rate: 0.0019 - gradient_norm: 3.6446 - val_det_loss: 0.5548 - val_cls_loss: 0.3994 - val_box_loss: 0.0031 - val_reg_l2_loss: 0.0772 - val_loss: 0.6320\n",
            "Epoch 59/100\n",
            "46/46 [==============================] - 18s 398ms/step - det_loss: 0.6268 - cls_loss: 0.3595 - box_loss: 0.0053 - reg_l2_loss: 0.0772 - loss: 0.7040 - learning_rate: 0.0018 - gradient_norm: 3.7897 - val_det_loss: 0.5788 - val_cls_loss: 0.3888 - val_box_loss: 0.0038 - val_reg_l2_loss: 0.0772 - val_loss: 0.6560\n",
            "Epoch 60/100\n",
            "46/46 [==============================] - 22s 470ms/step - det_loss: 0.6338 - cls_loss: 0.3568 - box_loss: 0.0055 - reg_l2_loss: 0.0772 - loss: 0.7110 - learning_rate: 0.0017 - gradient_norm: 3.9699 - val_det_loss: 0.5930 - val_cls_loss: 0.4167 - val_box_loss: 0.0035 - val_reg_l2_loss: 0.0772 - val_loss: 0.6703\n",
            "Epoch 61/100\n",
            "46/46 [==============================] - 18s 401ms/step - det_loss: 0.5920 - cls_loss: 0.3391 - box_loss: 0.0051 - reg_l2_loss: 0.0772 - loss: 0.6692 - learning_rate: 0.0016 - gradient_norm: 3.5760 - val_det_loss: 0.6998 - val_cls_loss: 0.4762 - val_box_loss: 0.0045 - val_reg_l2_loss: 0.0772 - val_loss: 0.7770\n",
            "Epoch 62/100\n",
            "46/46 [==============================] - 19s 408ms/step - det_loss: 0.6093 - cls_loss: 0.3527 - box_loss: 0.0051 - reg_l2_loss: 0.0772 - loss: 0.6865 - learning_rate: 0.0016 - gradient_norm: 3.8018 - val_det_loss: 0.6288 - val_cls_loss: 0.4225 - val_box_loss: 0.0041 - val_reg_l2_loss: 0.0772 - val_loss: 0.7060\n",
            "Epoch 63/100\n",
            "46/46 [==============================] - 18s 398ms/step - det_loss: 0.5978 - cls_loss: 0.3610 - box_loss: 0.0047 - reg_l2_loss: 0.0772 - loss: 0.6750 - learning_rate: 0.0015 - gradient_norm: 3.7120 - val_det_loss: 0.6671 - val_cls_loss: 0.4584 - val_box_loss: 0.0042 - val_reg_l2_loss: 0.0772 - val_loss: 0.7443\n",
            "Epoch 64/100\n",
            "46/46 [==============================] - 19s 419ms/step - det_loss: 0.5769 - cls_loss: 0.3454 - box_loss: 0.0046 - reg_l2_loss: 0.0772 - loss: 0.6541 - learning_rate: 0.0014 - gradient_norm: 3.6393 - val_det_loss: 0.6158 - val_cls_loss: 0.4345 - val_box_loss: 0.0036 - val_reg_l2_loss: 0.0772 - val_loss: 0.6930\n",
            "Epoch 65/100\n",
            "46/46 [==============================] - 21s 466ms/step - det_loss: 0.6309 - cls_loss: 0.3475 - box_loss: 0.0057 - reg_l2_loss: 0.0772 - loss: 0.7081 - learning_rate: 0.0014 - gradient_norm: 4.0266 - val_det_loss: 0.6015 - val_cls_loss: 0.4144 - val_box_loss: 0.0037 - val_reg_l2_loss: 0.0772 - val_loss: 0.6787\n",
            "Epoch 66/100\n",
            "46/46 [==============================] - 18s 392ms/step - det_loss: 0.6012 - cls_loss: 0.3612 - box_loss: 0.0048 - reg_l2_loss: 0.0772 - loss: 0.6784 - learning_rate: 0.0013 - gradient_norm: 3.7408 - val_det_loss: 0.6790 - val_cls_loss: 0.4305 - val_box_loss: 0.0050 - val_reg_l2_loss: 0.0772 - val_loss: 0.7561\n",
            "Epoch 67/100\n",
            "46/46 [==============================] - 19s 406ms/step - det_loss: 0.5891 - cls_loss: 0.3548 - box_loss: 0.0047 - reg_l2_loss: 0.0772 - loss: 0.6663 - learning_rate: 0.0012 - gradient_norm: 4.0532 - val_det_loss: 0.5934 - val_cls_loss: 0.3999 - val_box_loss: 0.0039 - val_reg_l2_loss: 0.0772 - val_loss: 0.6706\n",
            "Epoch 68/100\n",
            "46/46 [==============================] - 19s 403ms/step - det_loss: 0.6143 - cls_loss: 0.3613 - box_loss: 0.0051 - reg_l2_loss: 0.0772 - loss: 0.6915 - learning_rate: 0.0011 - gradient_norm: 3.8718 - val_det_loss: 0.5888 - val_cls_loss: 0.4036 - val_box_loss: 0.0037 - val_reg_l2_loss: 0.0772 - val_loss: 0.6659\n",
            "Epoch 69/100\n",
            "46/46 [==============================] - 18s 401ms/step - det_loss: 0.5756 - cls_loss: 0.3381 - box_loss: 0.0047 - reg_l2_loss: 0.0772 - loss: 0.6528 - learning_rate: 0.0011 - gradient_norm: 3.5786 - val_det_loss: 0.5627 - val_cls_loss: 0.3792 - val_box_loss: 0.0037 - val_reg_l2_loss: 0.0772 - val_loss: 0.6399\n",
            "Epoch 70/100\n",
            "46/46 [==============================] - 23s 496ms/step - det_loss: 0.6076 - cls_loss: 0.3334 - box_loss: 0.0055 - reg_l2_loss: 0.0772 - loss: 0.6848 - learning_rate: 0.0010 - gradient_norm: 4.0122 - val_det_loss: 0.5778 - val_cls_loss: 0.4134 - val_box_loss: 0.0033 - val_reg_l2_loss: 0.0772 - val_loss: 0.6550\n",
            "Epoch 71/100\n",
            "46/46 [==============================] - 19s 412ms/step - det_loss: 0.5848 - cls_loss: 0.3387 - box_loss: 0.0049 - reg_l2_loss: 0.0772 - loss: 0.6620 - learning_rate: 9.5470e-04 - gradient_norm: 3.8548 - val_det_loss: 0.6215 - val_cls_loss: 0.4169 - val_box_loss: 0.0041 - val_reg_l2_loss: 0.0772 - val_loss: 0.6987\n",
            "Epoch 72/100\n",
            "46/46 [==============================] - 18s 399ms/step - det_loss: 0.6053 - cls_loss: 0.3512 - box_loss: 0.0051 - reg_l2_loss: 0.0772 - loss: 0.6825 - learning_rate: 8.9313e-04 - gradient_norm: 3.7423 - val_det_loss: 0.6213 - val_cls_loss: 0.3894 - val_box_loss: 0.0046 - val_reg_l2_loss: 0.0772 - val_loss: 0.6985\n",
            "Epoch 73/100\n",
            "46/46 [==============================] - 19s 402ms/step - det_loss: 0.5796 - cls_loss: 0.3422 - box_loss: 0.0047 - reg_l2_loss: 0.0772 - loss: 0.6568 - learning_rate: 8.3318e-04 - gradient_norm: 3.7703 - val_det_loss: 0.6296 - val_cls_loss: 0.4253 - val_box_loss: 0.0041 - val_reg_l2_loss: 0.0772 - val_loss: 0.7068\n",
            "Epoch 74/100\n",
            "46/46 [==============================] - 19s 412ms/step - det_loss: 0.5851 - cls_loss: 0.3661 - box_loss: 0.0044 - reg_l2_loss: 0.0772 - loss: 0.6623 - learning_rate: 7.7490e-04 - gradient_norm: 3.9133 - val_det_loss: 0.6531 - val_cls_loss: 0.4343 - val_box_loss: 0.0044 - val_reg_l2_loss: 0.0772 - val_loss: 0.7303\n",
            "Epoch 75/100\n",
            "46/46 [==============================] - 21s 461ms/step - det_loss: 0.6033 - cls_loss: 0.3545 - box_loss: 0.0050 - reg_l2_loss: 0.0772 - loss: 0.6805 - learning_rate: 7.1837e-04 - gradient_norm: 3.7333 - val_det_loss: 0.5664 - val_cls_loss: 0.4004 - val_box_loss: 0.0033 - val_reg_l2_loss: 0.0772 - val_loss: 0.6436\n",
            "Epoch 76/100\n",
            "46/46 [==============================] - 18s 396ms/step - det_loss: 0.5918 - cls_loss: 0.3568 - box_loss: 0.0047 - reg_l2_loss: 0.0772 - loss: 0.6689 - learning_rate: 6.6363e-04 - gradient_norm: 3.7976 - val_det_loss: 0.5438 - val_cls_loss: 0.3902 - val_box_loss: 0.0031 - val_reg_l2_loss: 0.0772 - val_loss: 0.6210\n",
            "Epoch 77/100\n",
            "46/46 [==============================] - 19s 403ms/step - det_loss: 0.5929 - cls_loss: 0.3392 - box_loss: 0.0051 - reg_l2_loss: 0.0772 - loss: 0.6701 - learning_rate: 6.1073e-04 - gradient_norm: 4.0121 - val_det_loss: 0.7443 - val_cls_loss: 0.4634 - val_box_loss: 0.0056 - val_reg_l2_loss: 0.0772 - val_loss: 0.8214\n",
            "Epoch 78/100\n",
            "46/46 [==============================] - 19s 411ms/step - det_loss: 0.5938 - cls_loss: 0.3423 - box_loss: 0.0050 - reg_l2_loss: 0.0772 - loss: 0.6710 - learning_rate: 5.5974e-04 - gradient_norm: 3.6960 - val_det_loss: 0.6425 - val_cls_loss: 0.4378 - val_box_loss: 0.0041 - val_reg_l2_loss: 0.0772 - val_loss: 0.7197\n",
            "Epoch 79/100\n",
            "46/46 [==============================] - 19s 406ms/step - det_loss: 0.5707 - cls_loss: 0.3326 - box_loss: 0.0048 - reg_l2_loss: 0.0772 - loss: 0.6479 - learning_rate: 5.1070e-04 - gradient_norm: 3.7907 - val_det_loss: 0.5893 - val_cls_loss: 0.4125 - val_box_loss: 0.0035 - val_reg_l2_loss: 0.0772 - val_loss: 0.6665\n",
            "Epoch 80/100\n",
            "46/46 [==============================] - 21s 463ms/step - det_loss: 0.5921 - cls_loss: 0.3442 - box_loss: 0.0050 - reg_l2_loss: 0.0772 - loss: 0.6693 - learning_rate: 4.6367e-04 - gradient_norm: 3.7002 - val_det_loss: 0.6402 - val_cls_loss: 0.4194 - val_box_loss: 0.0044 - val_reg_l2_loss: 0.0772 - val_loss: 0.7174\n",
            "Epoch 81/100\n",
            "46/46 [==============================] - 19s 411ms/step - det_loss: 0.5780 - cls_loss: 0.3387 - box_loss: 0.0048 - reg_l2_loss: 0.0772 - loss: 0.6552 - learning_rate: 4.1869e-04 - gradient_norm: 3.6465 - val_det_loss: 0.5859 - val_cls_loss: 0.3988 - val_box_loss: 0.0037 - val_reg_l2_loss: 0.0772 - val_loss: 0.6631\n",
            "Epoch 82/100\n",
            "46/46 [==============================] - 19s 407ms/step - det_loss: 0.5792 - cls_loss: 0.3458 - box_loss: 0.0047 - reg_l2_loss: 0.0772 - loss: 0.6564 - learning_rate: 3.7580e-04 - gradient_norm: 3.9089 - val_det_loss: 0.6083 - val_cls_loss: 0.4063 - val_box_loss: 0.0040 - val_reg_l2_loss: 0.0772 - val_loss: 0.6855\n",
            "Epoch 83/100\n",
            "46/46 [==============================] - 18s 397ms/step - det_loss: 0.5766 - cls_loss: 0.3195 - box_loss: 0.0051 - reg_l2_loss: 0.0772 - loss: 0.6538 - learning_rate: 3.3505e-04 - gradient_norm: 3.9638 - val_det_loss: 0.5741 - val_cls_loss: 0.3875 - val_box_loss: 0.0037 - val_reg_l2_loss: 0.0772 - val_loss: 0.6513\n",
            "Epoch 84/100\n",
            "46/46 [==============================] - 19s 405ms/step - det_loss: 0.5573 - cls_loss: 0.3441 - box_loss: 0.0043 - reg_l2_loss: 0.0772 - loss: 0.6345 - learning_rate: 2.9648e-04 - gradient_norm: 3.6015 - val_det_loss: 0.6268 - val_cls_loss: 0.3990 - val_box_loss: 0.0046 - val_reg_l2_loss: 0.0772 - val_loss: 0.7039\n",
            "Epoch 85/100\n",
            "46/46 [==============================] - 21s 469ms/step - det_loss: 0.5531 - cls_loss: 0.3112 - box_loss: 0.0048 - reg_l2_loss: 0.0772 - loss: 0.6303 - learning_rate: 2.6013e-04 - gradient_norm: 3.4788 - val_det_loss: 0.6328 - val_cls_loss: 0.3990 - val_box_loss: 0.0047 - val_reg_l2_loss: 0.0772 - val_loss: 0.7100\n",
            "Epoch 86/100\n",
            "46/46 [==============================] - 18s 400ms/step - det_loss: 0.5581 - cls_loss: 0.3470 - box_loss: 0.0042 - reg_l2_loss: 0.0772 - loss: 0.6353 - learning_rate: 2.2603e-04 - gradient_norm: 3.5919 - val_det_loss: 0.6019 - val_cls_loss: 0.4088 - val_box_loss: 0.0039 - val_reg_l2_loss: 0.0772 - val_loss: 0.6790\n",
            "Epoch 87/100\n",
            "46/46 [==============================] - 19s 403ms/step - det_loss: 0.5770 - cls_loss: 0.3335 - box_loss: 0.0049 - reg_l2_loss: 0.0772 - loss: 0.6542 - learning_rate: 1.9423e-04 - gradient_norm: 3.8520 - val_det_loss: 0.5917 - val_cls_loss: 0.3996 - val_box_loss: 0.0038 - val_reg_l2_loss: 0.0772 - val_loss: 0.6689\n",
            "Epoch 88/100\n",
            "46/46 [==============================] - 19s 416ms/step - det_loss: 0.5667 - cls_loss: 0.3295 - box_loss: 0.0047 - reg_l2_loss: 0.0772 - loss: 0.6439 - learning_rate: 1.6475e-04 - gradient_norm: 3.9019 - val_det_loss: 0.5893 - val_cls_loss: 0.4003 - val_box_loss: 0.0038 - val_reg_l2_loss: 0.0772 - val_loss: 0.6665\n",
            "Epoch 89/100\n",
            "46/46 [==============================] - 19s 406ms/step - det_loss: 0.5832 - cls_loss: 0.3373 - box_loss: 0.0049 - reg_l2_loss: 0.0772 - loss: 0.6604 - learning_rate: 1.3761e-04 - gradient_norm: 3.6027 - val_det_loss: 0.6092 - val_cls_loss: 0.4177 - val_box_loss: 0.0038 - val_reg_l2_loss: 0.0772 - val_loss: 0.6864\n",
            "Epoch 90/100\n",
            "46/46 [==============================] - 21s 458ms/step - det_loss: 0.5579 - cls_loss: 0.3333 - box_loss: 0.0045 - reg_l2_loss: 0.0772 - loss: 0.6351 - learning_rate: 1.1286e-04 - gradient_norm: 3.7441 - val_det_loss: 0.6218 - val_cls_loss: 0.4267 - val_box_loss: 0.0039 - val_reg_l2_loss: 0.0772 - val_loss: 0.6990\n",
            "Epoch 91/100\n",
            "46/46 [==============================] - 20s 427ms/step - det_loss: 0.5844 - cls_loss: 0.3219 - box_loss: 0.0052 - reg_l2_loss: 0.0772 - loss: 0.6616 - learning_rate: 9.0509e-05 - gradient_norm: 3.9516 - val_det_loss: 0.6202 - val_cls_loss: 0.4240 - val_box_loss: 0.0039 - val_reg_l2_loss: 0.0772 - val_loss: 0.6974\n",
            "Epoch 92/100\n",
            "46/46 [==============================] - 19s 410ms/step - det_loss: 0.5593 - cls_loss: 0.3473 - box_loss: 0.0042 - reg_l2_loss: 0.0772 - loss: 0.6365 - learning_rate: 7.0585e-05 - gradient_norm: 3.6146 - val_det_loss: 0.6123 - val_cls_loss: 0.4167 - val_box_loss: 0.0039 - val_reg_l2_loss: 0.0772 - val_loss: 0.6894\n",
            "Epoch 93/100\n",
            "46/46 [==============================] - 18s 401ms/step - det_loss: 0.5893 - cls_loss: 0.3313 - box_loss: 0.0052 - reg_l2_loss: 0.0772 - loss: 0.6664 - learning_rate: 5.3108e-05 - gradient_norm: 3.9466 - val_det_loss: 0.5963 - val_cls_loss: 0.4064 - val_box_loss: 0.0038 - val_reg_l2_loss: 0.0772 - val_loss: 0.6735\n",
            "Epoch 94/100\n",
            "46/46 [==============================] - 19s 404ms/step - det_loss: 0.5680 - cls_loss: 0.3443 - box_loss: 0.0045 - reg_l2_loss: 0.0772 - loss: 0.6452 - learning_rate: 3.8094e-05 - gradient_norm: 3.5468 - val_det_loss: 0.6033 - val_cls_loss: 0.4045 - val_box_loss: 0.0040 - val_reg_l2_loss: 0.0772 - val_loss: 0.6805\n",
            "Epoch 95/100\n",
            "46/46 [==============================] - 22s 470ms/step - det_loss: 0.5680 - cls_loss: 0.3158 - box_loss: 0.0050 - reg_l2_loss: 0.0772 - loss: 0.6451 - learning_rate: 2.5559e-05 - gradient_norm: 3.7563 - val_det_loss: 0.5976 - val_cls_loss: 0.4048 - val_box_loss: 0.0039 - val_reg_l2_loss: 0.0772 - val_loss: 0.6748\n",
            "Epoch 96/100\n",
            "46/46 [==============================] - 18s 399ms/step - det_loss: 0.5534 - cls_loss: 0.3320 - box_loss: 0.0044 - reg_l2_loss: 0.0772 - loss: 0.6306 - learning_rate: 1.5516e-05 - gradient_norm: 3.5948 - val_det_loss: 0.5969 - val_cls_loss: 0.4036 - val_box_loss: 0.0039 - val_reg_l2_loss: 0.0772 - val_loss: 0.6740\n",
            "Epoch 97/100\n",
            "46/46 [==============================] - 18s 397ms/step - det_loss: 0.5751 - cls_loss: 0.3348 - box_loss: 0.0048 - reg_l2_loss: 0.0772 - loss: 0.6522 - learning_rate: 7.9745e-06 - gradient_norm: 3.9057 - val_det_loss: 0.5989 - val_cls_loss: 0.4063 - val_box_loss: 0.0039 - val_reg_l2_loss: 0.0772 - val_loss: 0.6761\n",
            "Epoch 98/100\n",
            "46/46 [==============================] - 18s 399ms/step - det_loss: 0.5691 - cls_loss: 0.3329 - box_loss: 0.0047 - reg_l2_loss: 0.0772 - loss: 0.6463 - learning_rate: 2.9422e-06 - gradient_norm: 3.7842 - val_det_loss: 0.6005 - val_cls_loss: 0.4071 - val_box_loss: 0.0039 - val_reg_l2_loss: 0.0772 - val_loss: 0.6777\n",
            "Epoch 99/100\n",
            "46/46 [==============================] - 19s 415ms/step - det_loss: 0.5533 - cls_loss: 0.3297 - box_loss: 0.0045 - reg_l2_loss: 0.0772 - loss: 0.6305 - learning_rate: 4.2413e-07 - gradient_norm: 3.6488 - val_det_loss: 0.5995 - val_cls_loss: 0.4066 - val_box_loss: 0.0039 - val_reg_l2_loss: 0.0772 - val_loss: 0.6766\n",
            "Epoch 100/100\n",
            "46/46 [==============================] - 21s 457ms/step - det_loss: 0.5562 - cls_loss: 0.3427 - box_loss: 0.0043 - reg_l2_loss: 0.0772 - loss: 0.6334 - learning_rate: 4.2297e-07 - gradient_norm: 3.8817 - val_det_loss: 0.6061 - val_cls_loss: 0.4110 - val_box_loss: 0.0039 - val_reg_l2_loss: 0.0772 - val_loss: 0.6833\n"
          ]
        }
      ]
    },
    {
      "cell_type": "code",
      "source": [
        "model.evaluate(val_data)"
      ],
      "metadata": {
        "colab": {
          "base_uri": "https://localhost:8080/"
        },
        "id": "kqe8nXJc9Vud",
        "outputId": "60ae62a4-5226-456f-c3f3-98637c774b7c"
      },
      "execution_count": null,
      "outputs": [
        {
          "output_type": "stream",
          "name": "stdout",
          "text": [
            "\r1/1 [==============================] - 9s 9s/step\n",
            "\n"
          ]
        },
        {
          "output_type": "execute_result",
          "data": {
            "text/plain": [
              "{'AP': 0.22091067,\n",
              " 'AP50': 0.66010773,\n",
              " 'AP75': 0.09638354,\n",
              " 'AP_/Dip': 0.22091067,\n",
              " 'APl': 0.39344537,\n",
              " 'APm': 0.19690311,\n",
              " 'APs': -1.0,\n",
              " 'ARl': 0.5,\n",
              " 'ARm': 0.56666666,\n",
              " 'ARmax1': 0.16086957,\n",
              " 'ARmax10': 0.41304347,\n",
              " 'ARmax100': 0.526087,\n",
              " 'ARs': -1.0}"
            ]
          },
          "metadata": {},
          "execution_count": 9
        }
      ]
    }
  ]
}