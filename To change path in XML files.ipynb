{
 "cells": [
  {
   "cell_type": "code",
   "execution_count": null,
   "id": "ab6cf261",
   "metadata": {},
   "outputs": [],
   "source": [
    "import os"
   ]
  },
  {
   "cell_type": "code",
   "execution_count": null,
   "id": "25ab1c19",
   "metadata": {},
   "outputs": [],
   "source": [
    "annotation_files = os.listdir()"
   ]
  },
  {
   "cell_type": "code",
   "execution_count": null,
   "id": "4e04c316",
   "metadata": {},
   "outputs": [],
   "source": [
    "annotation_files"
   ]
  },
  {
   "cell_type": "code",
   "execution_count": null,
   "id": "b136ecdd",
   "metadata": {},
   "outputs": [],
   "source": [
    "an_files = []\n",
    "for i in annotation_files: \n",
    "    if i.startswith('train'):\n",
    "        an_files.append(i)\n",
    "\n",
    "an_files"
   ]
  },
  {
   "cell_type": "code",
   "execution_count": null,
   "id": "189910dc",
   "metadata": {},
   "outputs": [],
   "source": [
    "print(len(an_files))\n",
    "\n",
    "print(len(annotation_files))"
   ]
  },
  {
   "cell_type": "code",
   "execution_count": null,
   "id": "183d1b79",
   "metadata": {},
   "outputs": [],
   "source": [
    "my_str = '<path to new dir>'\n",
    "change_str = '<path to old dir>'\n",
    "\n",
    "for filename in an_files:\n",
    "    file = open(filename, 'rt')\n",
    "    line = file.read()\n",
    "    line = line.replace(change_str, my_str)\n",
    "    file.close()\n",
    "    file = open(filename, 'wt')\n",
    "    file.write(line)\n",
    "    file.close()"
   ]
  }
 ],
 "metadata": {
  "kernelspec": {
   "display_name": "Python 3 (ipykernel)",
   "language": "python",
   "name": "python3"
  },
  "language_info": {
   "codemirror_mode": {
    "name": "ipython",
    "version": 3
   },
   "file_extension": ".py",
   "mimetype": "text/x-python",
   "name": "python",
   "nbconvert_exporter": "python",
   "pygments_lexer": "ipython3",
   "version": "3.9.12"
  }
 },
 "nbformat": 4,
 "nbformat_minor": 5
}
