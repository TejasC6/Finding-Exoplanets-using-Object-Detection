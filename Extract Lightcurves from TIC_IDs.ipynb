{
 "cells": [
  {
   "cell_type": "code",
   "execution_count": null,
   "id": "a81132eb",
   "metadata": {},
   "outputs": [],
   "source": [
    "import lightkurve as lk\n",
    "import matplotlib.pyplot as plt"
   ]
  },
  {
   "cell_type": "code",
   "execution_count": null,
   "id": "ef35db42",
   "metadata": {},
   "outputs": [],
   "source": [
    "file = open('data_tic_id.txt', 'r')\n",
    "tic_id_list = []\n",
    "tic_ids = list(file.readlines())\n",
    "for id in tic_ids:\n",
    "    id = id.strip()\n",
    "    if id:\n",
    "        tic_id_list.append(id)"
   ]
  },
  {
   "cell_type": "code",
   "execution_count": null,
   "id": "dec46c88",
   "metadata": {},
   "outputs": [],
   "source": [
    "tic_id_list"
   ]
  },
  {
   "cell_type": "code",
   "execution_count": null,
   "id": "93509797",
   "metadata": {},
   "outputs": [],
   "source": [
    "count = 0\n",
    "for tic_id in tic_id_list:\n",
    "    sr = lk.search_lightcurve(f\"TIC {tic_id}\",  author=\"SPOC\")\n",
    "    length = len(sr)\n",
    "    for i in range(0,length):\n",
    "        klc = sr[i].download().normalize().flatten()\n",
    "        fig, ax = plt.subplots(1)\n",
    "        fig.set_size_inches(18.5, 10.5)\n",
    "        ax.plot(klc.time.value, klc.flux.value, linewidth=0, marker='o', markersize=1, color='black')\n",
    "        # lc_extent = ax.get_window_extent().transformed(fig.dpi_scale_trans.inverted())\n",
    "        fig.savefig(f'train{count}_{i}.png')\n",
    "    count += 1"
   ]
  }
 ],
 "metadata": {
  "kernelspec": {
   "display_name": "Python 3 (ipykernel)",
   "language": "python",
   "name": "python3"
  },
  "language_info": {
   "codemirror_mode": {
    "name": "ipython",
    "version": 3
   },
   "file_extension": ".py",
   "mimetype": "text/x-python",
   "name": "python",
   "nbconvert_exporter": "python",
   "pygments_lexer": "ipython3",
   "version": "3.9.12"
  }
 },
 "nbformat": 4,
 "nbformat_minor": 5
}
