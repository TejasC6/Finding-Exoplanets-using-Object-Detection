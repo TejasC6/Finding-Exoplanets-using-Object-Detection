{
 "cells": [
  {
   "cell_type": "code",
   "execution_count": null,
   "id": "c95031bb",
   "metadata": {},
   "outputs": [],
   "source": [
    "img = PIL.Image.open('<path to sample image>')\n",
    "img.format"
   ]
  },
  {
   "cell_type": "code",
   "execution_count": null,
   "id": "a8664250",
   "metadata": {},
   "outputs": [],
   "source": [
    "import PIL.Image\n",
    "import glob\n",
    "import os\n",
    "\n",
    "if not \"converted\" in os.listdir():\n",
    "    os.mkdir(\"converted\")\n",
    "\n",
    "lst_imgs = [i for i in glob.glob(\"*.jpg\")]\n",
    "print(lst_imgs)\n",
    "\n",
    "for i in lst_imgs:\n",
    "    img = PIL.Image.open(i)\n",
    "    img = img.convert(\"RGB\")\n",
    "    img.save(\"converted\\\\\"+i, \"JPEG\")\n",
    "\n",
    "\n",
    "print(\"Done.\")\n",
    "os.startfile(\"converted\")"
   ]
  },
  {
   "cell_type": "code",
   "execution_count": null,
   "id": "ff4b156b",
   "metadata": {},
   "outputs": [],
   "source": [
    "img = PIL.Image.open('<path to sample image>')\n",
    "img.format"
   ]
  }
 ],
 "metadata": {
  "kernelspec": {
   "display_name": "Python 3 (ipykernel)",
   "language": "python",
   "name": "python3"
  },
  "language_info": {
   "codemirror_mode": {
    "name": "ipython",
    "version": 3
   },
   "file_extension": ".py",
   "mimetype": "text/x-python",
   "name": "python",
   "nbconvert_exporter": "python",
   "pygments_lexer": "ipython3",
   "version": "3.9.12"
  }
 },
 "nbformat": 4,
 "nbformat_minor": 5
}
